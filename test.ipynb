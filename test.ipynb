{
 "cells": [
  {
   "cell_type": "code",
   "execution_count": 1,
   "id": "696f658b",
   "metadata": {},
   "outputs": [],
   "source": [
    "%load_ext autoreload\n",
    "%autoreload 2"
   ]
  },
  {
   "cell_type": "code",
   "execution_count": 2,
   "id": "c78df2d0",
   "metadata": {
    "scrolled": true
   },
   "outputs": [],
   "source": [
    "from COS_Funcs import baseline"
   ]
  },
  {
   "cell_type": "code",
   "execution_count": null,
   "id": "60ee3cec",
   "metadata": {},
   "outputs": [
    {
     "name": "stdout",
     "output_type": "stream",
     "text": [
      "Datasets\\abalone11–17.csv\n",
      "Error: There is not any safe area\n",
      "Error: There is not any safe area\n",
      "Error: There is not any safe area\n"
     ]
    }
   ],
   "source": [
    "baseline.cos_baseline('svm',baseline.metrics)"
   ]
  }
 ],
 "metadata": {
  "kernelspec": {
   "display_name": "Python 3 (ipykernel)",
   "language": "python",
   "name": "python3"
  },
  "language_info": {
   "codemirror_mode": {
    "name": "ipython",
    "version": 3
   },
   "file_extension": ".py",
   "mimetype": "text/x-python",
   "name": "python",
   "nbconvert_exporter": "python",
   "pygments_lexer": "ipython3",
   "version": "3.9.12"
  }
 },
 "nbformat": 4,
 "nbformat_minor": 5
}
