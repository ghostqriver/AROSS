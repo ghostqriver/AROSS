{
 "cells": [
  {
   "cell_type": "code",
   "execution_count": 1,
   "id": "696f658b",
   "metadata": {},
   "outputs": [],
   "source": [
    "%load_ext autoreload\n",
    "%autoreload 2"
   ]
  },
  {
   "cell_type": "code",
   "execution_count": 4,
   "id": "c78df2d0",
   "metadata": {
    "scrolled": true
   },
   "outputs": [],
   "source": [
    "from COS_Funcs import baseline"
   ]
  },
  {
   "cell_type": "code",
   "execution_count": 5,
   "id": "669feeae",
   "metadata": {},
   "outputs": [
    {
     "name": "stderr",
     "output_type": "stream",
     "text": [
      "\r",
      "  0%|          | 0/10 [00:00<?, ?it/s]"
     ]
    },
    {
     "name": "stdout",
     "output_type": "stream",
     "text": [
      "original|cost: 0.0\n",
      "1 | Datasets\\abalone11–17.csv | original | knn | recall :0.13333333333333333\n",
      "1 | Datasets\\abalone11–17.csv | original | knn | f1_score :0.23529411764705882\n",
      "1 | Datasets\\abalone11–17.csv | original | knn | g_mean :0.3651483716701107\n",
      "1 | Datasets\\abalone11–17.csv | original | knn | kappa :0.2150727192595856\n",
      "1 | Datasets\\abalone11–17.csv | original | knn | auc :0.5666666666666667\n",
      "1 | Datasets\\abalone11–17.csv | original | knn | accuracy :0.9051094890510949\n",
      "1 | Datasets\\abalone11–17.csv | original | knn | precision :1.0\n",
      "1 | Datasets\\abalone11–17.csv | original | svm | recall :0.0\n",
      "1 | Datasets\\abalone11–17.csv | original | svm | f1_score :0.0\n",
      "1 | Datasets\\abalone11–17.csv | original | svm | g_mean :0.0\n",
      "1 | Datasets\\abalone11–17.csv | original | svm | kappa :0.0\n",
      "1 | Datasets\\abalone11–17.csv | original | svm | auc :0.5\n",
      "1 | Datasets\\abalone11–17.csv | original | svm | accuracy :0.8905109489051095\n",
      "1 | Datasets\\abalone11–17.csv | original | svm | precision :0.0\n",
      "1 | Datasets\\abalone11–17.csv | original | decision_tree | recall :0.2\n",
      "1 | Datasets\\abalone11–17.csv | original | decision_tree | f1_score :0.23076923076923075\n",
      "1 | Datasets\\abalone11–17.csv | original | decision_tree | g_mean :0.43230226219815154\n",
      "1 | Datasets\\abalone11–17.csv | original | decision_tree | kappa :0.15222772277227725\n",
      "1 | Datasets\\abalone11–17.csv | original | decision_tree | auc :0.5672131147540984\n",
      "1 | Datasets\\abalone11–17.csv | original | decision_tree | accuracy :0.8540145985401459\n",
      "1 | Datasets\\abalone11–17.csv | original | decision_tree | precision :0.2727272727272727\n",
      "1 | Datasets\\abalone11–17.csv | original | random_forest | recall :0.13333333333333333\n",
      "1 | Datasets\\abalone11–17.csv | original | random_forest | f1_score :0.23529411764705882\n",
      "1 | Datasets\\abalone11–17.csv | original | random_forest | g_mean :0.3651483716701107\n",
      "1 | Datasets\\abalone11–17.csv | original | random_forest | kappa :0.2150727192595856\n",
      "1 | Datasets\\abalone11–17.csv | original | random_forest | auc :0.5666666666666667\n",
      "1 | Datasets\\abalone11–17.csv | original | random_forest | accuracy :0.9051094890510949\n",
      "1 | Datasets\\abalone11–17.csv | original | random_forest | precision :1.0\n",
      "1 | Datasets\\abalone11–17.csv | original | mlp | recall :0.13333333333333333\n",
      "1 | Datasets\\abalone11–17.csv | original | mlp | f1_score :0.23529411764705882\n",
      "1 | Datasets\\abalone11–17.csv | original | mlp | g_mean :0.3651483716701107\n",
      "1 | Datasets\\abalone11–17.csv | original | mlp | kappa :0.2150727192595856\n",
      "1 | Datasets\\abalone11–17.csv | original | mlp | auc :0.5666666666666667\n",
      "1 | Datasets\\abalone11–17.csv | original | mlp | accuracy :0.9051094890510949\n",
      "1 | Datasets\\abalone11–17.csv | original | mlp | precision :1.0\n",
      "1 | Datasets\\abalone11–17.csv | original | naive_bayes | recall :0.06666666666666667\n",
      "1 | Datasets\\abalone11–17.csv | original | naive_bayes | f1_score :0.125\n",
      "1 | Datasets\\abalone11–17.csv | original | naive_bayes | g_mean :0.2581988897471611\n",
      "1 | Datasets\\abalone11–17.csv | original | naive_bayes | kappa :0.11285846438482894\n",
      "1 | Datasets\\abalone11–17.csv | original | naive_bayes | auc :0.5333333333333333\n",
      "1 | Datasets\\abalone11–17.csv | original | naive_bayes | accuracy :0.8978102189781022\n",
      "1 | Datasets\\abalone11–17.csv | original | naive_bayes | precision :1.0\n",
      "wgan|MAX CLASS 365\n",
      "CLASS ID 1.0\n",
      "Epoch 1 / 150 completed. Gen loss: 0.03995916. Desc loss_real: 0.00604303 . Desc loss_fake: -0.03995916\n"
     ]
    },
    {
     "name": "stderr",
     "output_type": "stream",
     "text": [
      "  0%|          | 0/10 [00:03<?, ?it/s]\n"
     ]
    },
    {
     "name": "stdout",
     "output_type": "stream",
     "text": [
      "Unexpected exception formatting exception. Falling back to standard exception\n"
     ]
    },
    {
     "name": "stderr",
     "output_type": "stream",
     "text": [
      "Traceback (most recent call last):\n",
      "  File \"C:\\Program Files (x86)\\ANACONDA\\lib\\site-packages\\IPython\\core\\interactiveshell.py\", line 3369, in run_code\n",
      "    exec(code_obj, self.user_global_ns, self.user_ns)\n",
      "  File \"C:\\Users\\86186\\AppData\\Local\\Temp\\ipykernel_17444\\1473542405.py\", line 1, in <cell line: 1>\n",
      "    baseline.baseline(oversamplers=['original','wgan', 'wgan_filter'])\n",
      "  File \"E:\\罗兰大学课程\\研二\\Lab2\\COS_workspace\\COS_Funcs\\baseline\\baseline.py\", line 74, in baseline\n",
      "    X_train,y_train = do_oversampling(oversampler,X_train,y_train,X_test=X_test,y_test=y_test,classifier=classifiers[0])\n",
      "  File \"E:\\罗兰大学课程\\研二\\Lab2\\COS_workspace\\COS_Funcs\\baseline\\oversamplers.py\", line 77, in do_oversampling\n",
      "    return WGAN(X_train,y_train)\n",
      "  File \"E:\\罗兰大学课程\\研二\\Lab2\\COS_workspace\\COS_Funcs\\baseline\\GANs\\oversampler.py\", line 21, in WGAN\n",
      "    X_sample=gen_data(X_train,y_train,target,classes)\n",
      "  File \"E:\\罗兰大学课程\\研二\\Lab2\\COS_workspace\\COS_Funcs\\baseline\\GANs\\oversampler.py\", line 141, in gen_data\n",
      "    syhtnetic_data=fake_data_generation(training_data,nb_instances_to_generate,target)\n",
      "  File \"E:\\罗兰大学课程\\研二\\Lab2\\COS_workspace\\COS_Funcs\\baseline\\GANs\\oversampler.py\", line 106, in fake_data_generation\n",
      "    wasserstein,gen_loss,critic_loss_real,critic_loss_fake=train_step(batch,generator,critic,NOISE_DIM,generator_optimizer,critic_optimizer)\n",
      "  File \"E:\\罗兰大学课程\\研二\\Lab2\\COS_workspace\\COS_Funcs\\baseline\\GANs\\WGAN.py\", line 52, in train_step\n",
      "    critic_optimizer.apply_gradients(zip(gradients_of_critic,critic.trainable_variables))\n",
      "  File \"C:\\Program Files (x86)\\ANACONDA\\lib\\site-packages\\keras\\optimizers\\optimizer_v2\\optimizer_v2.py\", line 678, in apply_gradients\n",
      "    return tf.__internal__.distribute.interim.maybe_merge_call(\n",
      "  File \"C:\\Program Files (x86)\\ANACONDA\\lib\\site-packages\\tensorflow\\python\\distribute\\merge_call_interim.py\", line 51, in maybe_merge_call\n",
      "    return fn(strategy, *args, **kwargs)\n",
      "  File \"C:\\Program Files (x86)\\ANACONDA\\lib\\site-packages\\keras\\optimizers\\optimizer_v2\\optimizer_v2.py\", line 723, in _distributed_apply\n",
      "    update_op = distribution.extended.update(\n",
      "  File \"C:\\Program Files (x86)\\ANACONDA\\lib\\site-packages\\tensorflow\\python\\distribute\\distribute_lib.py\", line 2630, in update\n",
      "    return self._update(var, fn, args, kwargs, group)\n",
      "  File \"C:\\Program Files (x86)\\ANACONDA\\lib\\site-packages\\tensorflow\\python\\distribute\\distribute_lib.py\", line 3703, in _update\n",
      "    return self._update_non_slot(var, fn, (var,) + tuple(args), kwargs, group)\n",
      "  File \"C:\\Program Files (x86)\\ANACONDA\\lib\\site-packages\\tensorflow\\python\\distribute\\distribute_lib.py\", line 3709, in _update_non_slot\n",
      "    result = fn(*args, **kwargs)\n",
      "  File \"C:\\Program Files (x86)\\ANACONDA\\lib\\site-packages\\tensorflow\\python\\autograph\\impl\\api.py\", line 595, in wrapper\n",
      "    return func(*args, **kwargs)\n",
      "  File \"C:\\Program Files (x86)\\ANACONDA\\lib\\site-packages\\keras\\optimizers\\optimizer_v2\\optimizer_v2.py\", line 706, in apply_grad_to_update_var\n",
      "    update_op = self._resource_apply_dense(grad, var, **apply_kwargs)\n",
      "  File \"C:\\Program Files (x86)\\ANACONDA\\lib\\site-packages\\keras\\optimizers\\optimizer_v2\\rmsprop.py\", line 207, in _resource_apply_dense\n",
      "    rms_t = (coefficients[\"rho\"] * rms +\n",
      "  File \"C:\\Program Files (x86)\\ANACONDA\\lib\\site-packages\\tensorflow\\python\\util\\traceback_utils.py\", line 150, in error_handler\n",
      "    return fn(*args, **kwargs)\n",
      "  File \"C:\\Program Files (x86)\\ANACONDA\\lib\\site-packages\\tensorflow\\python\\ops\\math_ops.py\", line 1406, in binary_op_wrapper\n",
      "    return func(x, y, name=name)\n",
      "  File \"C:\\Program Files (x86)\\ANACONDA\\lib\\site-packages\\tensorflow\\python\\util\\traceback_utils.py\", line 150, in error_handler\n",
      "    return fn(*args, **kwargs)\n",
      "  File \"C:\\Program Files (x86)\\ANACONDA\\lib\\site-packages\\tensorflow\\python\\util\\dispatch.py\", line 1082, in op_dispatch_handler\n",
      "    return dispatch_target(*args, **kwargs)\n",
      "  File \"C:\\Program Files (x86)\\ANACONDA\\lib\\site-packages\\tensorflow\\python\\ops\\math_ops.py\", line 1756, in _add_dispatch\n",
      "    return gen_math_ops.add_v2(x, y, name=name)\n",
      "  File \"C:\\Program Files (x86)\\ANACONDA\\lib\\site-packages\\tensorflow\\python\\ops\\gen_math_ops.py\", line 461, in add_v2\n",
      "    _result = pywrap_tfe.TFE_Py_FastPathExecute(\n",
      "KeyboardInterrupt\n",
      "\n",
      "During handling of the above exception, another exception occurred:\n",
      "\n",
      "Traceback (most recent call last):\n",
      "  File \"C:\\Program Files (x86)\\ANACONDA\\lib\\site-packages\\IPython\\core\\interactiveshell.py\", line 1982, in showtraceback\n",
      "    stb = self.InteractiveTB.structured_traceback(\n",
      "  File \"C:\\Program Files (x86)\\ANACONDA\\lib\\site-packages\\IPython\\core\\ultratb.py\", line 1118, in structured_traceback\n",
      "    return FormattedTB.structured_traceback(\n",
      "  File \"C:\\Program Files (x86)\\ANACONDA\\lib\\site-packages\\IPython\\core\\ultratb.py\", line 1012, in structured_traceback\n",
      "    return VerboseTB.structured_traceback(\n",
      "  File \"C:\\Program Files (x86)\\ANACONDA\\lib\\site-packages\\IPython\\core\\ultratb.py\", line 865, in structured_traceback\n",
      "    formatted_exception = self.format_exception_as_a_whole(etype, evalue, etb, number_of_lines_of_context,\n",
      "  File \"C:\\Program Files (x86)\\ANACONDA\\lib\\site-packages\\IPython\\core\\ultratb.py\", line 818, in format_exception_as_a_whole\n",
      "    frames.append(self.format_record(r))\n",
      "  File \"C:\\Program Files (x86)\\ANACONDA\\lib\\site-packages\\IPython\\core\\ultratb.py\", line 736, in format_record\n",
      "    result += ''.join(_format_traceback_lines(frame_info.lines, Colors, self.has_colors, lvals))\n",
      "  File \"C:\\Program Files (x86)\\ANACONDA\\lib\\site-packages\\stack_data\\utils.py\", line 145, in cached_property_wrapper\n",
      "    value = obj.__dict__[self.func.__name__] = self.func(obj)\n",
      "  File \"C:\\Program Files (x86)\\ANACONDA\\lib\\site-packages\\stack_data\\core.py\", line 698, in lines\n",
      "    pieces = self.included_pieces\n",
      "  File \"C:\\Program Files (x86)\\ANACONDA\\lib\\site-packages\\stack_data\\utils.py\", line 145, in cached_property_wrapper\n",
      "    value = obj.__dict__[self.func.__name__] = self.func(obj)\n",
      "  File \"C:\\Program Files (x86)\\ANACONDA\\lib\\site-packages\\stack_data\\core.py\", line 649, in included_pieces\n",
      "    pos = scope_pieces.index(self.executing_piece)\n",
      "  File \"C:\\Program Files (x86)\\ANACONDA\\lib\\site-packages\\stack_data\\utils.py\", line 145, in cached_property_wrapper\n",
      "    value = obj.__dict__[self.func.__name__] = self.func(obj)\n",
      "  File \"C:\\Program Files (x86)\\ANACONDA\\lib\\site-packages\\stack_data\\core.py\", line 628, in executing_piece\n",
      "    return only(\n",
      "  File \"C:\\Program Files (x86)\\ANACONDA\\lib\\site-packages\\executing\\executing.py\", line 164, in only\n",
      "    raise NotOneValueFound('Expected one value, found 0')\n",
      "executing.executing.NotOneValueFound: Expected one value, found 0\n"
     ]
    }
   ],
   "source": [
    "baseline.baseline(oversamplers=['original','wgan', 'wgan_filter'])"
   ]
  }
 ],
 "metadata": {
  "kernelspec": {
   "display_name": "Python 3 (ipykernel)",
   "language": "python",
   "name": "python3"
  },
  "language_info": {
   "codemirror_mode": {
    "name": "ipython",
    "version": 3
   },
   "file_extension": ".py",
   "mimetype": "text/x-python",
   "name": "python",
   "nbconvert_exporter": "python",
   "pygments_lexer": "ipython3",
   "version": "3.9.12"
  }
 },
 "nbformat": 4,
 "nbformat_minor": 5
}
