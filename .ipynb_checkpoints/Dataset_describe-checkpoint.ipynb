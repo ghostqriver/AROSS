{
 "cells": [
  {
   "cell_type": "code",
   "execution_count": 1,
   "id": "5be5e49d",
   "metadata": {},
   "outputs": [],
   "source": [
    "import pandas as pd\n",
    "import glob"
   ]
  },
  {
   "cell_type": "code",
   "execution_count": 2,
   "id": "62d25366",
   "metadata": {},
   "outputs": [],
   "source": [
    "def get_labels(y):\n",
    "    '''\n",
    "    Return the minority class's label and majority class's label when given all labels y\n",
    "    Only works well on binary dataset as yet\n",
    "    return minlabel,int(majlabel)\n",
    "    '''\n",
    "    valuecounts=pd.Series(y).value_counts().index\n",
    "    majlabel=valuecounts[0]\n",
    "    minlabel=valuecounts[1:]\n",
    "    if len(minlabel)==1:\n",
    "        minlabel=int(minlabel[0])\n",
    "    return minlabel,int(majlabel)"
   ]
  },
  {
   "cell_type": "code",
   "execution_count": 8,
   "id": "29dd44c7",
   "metadata": {},
   "outputs": [
    {
     "name": "stdout",
     "output_type": "stream",
     "text": [
      "Donia\\BreastCancerWisconsin.csv\n",
      "{'dataset': 'BreastCancerWisconsin', 'minority_class': 'Class1', 'majority_class': 'Class0', 'num_of_attributes': 31, 'num_of_minority_samples': 212, 'num_of_majority_samples': 357, 'imbalance_ratio': 1.6839622641509433}\n",
      "Donia\\ecoli-0-1-4-7_vs_5-6.csv\n",
      "{'dataset': 'ecoli-0-1-4-7_vs_5-6', 'minority_class': 'Class1', 'majority_class': 'Class0', 'num_of_attributes': 6, 'num_of_minority_samples': 25, 'num_of_majority_samples': 307, 'imbalance_ratio': 12.28}\n",
      "Donia\\ecoli-0-1_vs_2-3-5.csv\n",
      "{'dataset': 'ecoli-0-1_vs_2-3-5', 'minority_class': 'Class1', 'majority_class': 'Class0', 'num_of_attributes': 7, 'num_of_minority_samples': 24, 'num_of_majority_samples': 220, 'imbalance_ratio': 9.166666666666666}\n",
      "Donia\\ecoli-0-1_vs_5.csv\n",
      "{'dataset': 'ecoli-0-1_vs_5', 'minority_class': 'Class1', 'majority_class': 'Class0', 'num_of_attributes': 6, 'num_of_minority_samples': 20, 'num_of_majority_samples': 220, 'imbalance_ratio': 11.0}\n",
      "Donia\\ecoli-0-2-3-4_vs_5.csv\n",
      "{'dataset': 'ecoli-0-2-3-4_vs_5', 'minority_class': 'Class1', 'majority_class': 'Class0', 'num_of_attributes': 7, 'num_of_minority_samples': 20, 'num_of_majority_samples': 182, 'imbalance_ratio': 9.1}\n",
      "Donia\\ecoli-0-4-6_vs_5.csv\n",
      "{'dataset': 'ecoli-0-4-6_vs_5', 'minority_class': 'Class1', 'majority_class': 'Class0', 'num_of_attributes': 6, 'num_of_minority_samples': 20, 'num_of_majority_samples': 183, 'imbalance_ratio': 9.15}\n",
      "Donia\\ecoli-0-6-7_vs_5.csv\n",
      "{'dataset': 'ecoli-0-6-7_vs_5', 'minority_class': 'Class1', 'majority_class': 'Class0', 'num_of_attributes': 6, 'num_of_minority_samples': 20, 'num_of_majority_samples': 200, 'imbalance_ratio': 10.0}\n",
      "Donia\\ecoli1.csv\n",
      "{'dataset': 'ecoli1', 'minority_class': 'Class1', 'majority_class': 'Class0', 'num_of_attributes': 7, 'num_of_minority_samples': 77, 'num_of_majority_samples': 259, 'imbalance_ratio': 3.3636363636363638}\n",
      "Donia\\ecoli2.csv\n",
      "{'dataset': 'ecoli2', 'minority_class': 'Class1', 'majority_class': 'Class0', 'num_of_attributes': 7, 'num_of_minority_samples': 52, 'num_of_majority_samples': 284, 'imbalance_ratio': 5.461538461538462}\n",
      "Donia\\ecoli3.csv\n",
      "{'dataset': 'ecoli3', 'minority_class': 'Class1', 'majority_class': 'Class0', 'num_of_attributes': 7, 'num_of_minority_samples': 35, 'num_of_majority_samples': 301, 'imbalance_ratio': 8.6}\n",
      "Donia\\glass0.csv\n",
      "{'dataset': 'glass0', 'minority_class': 'Class1', 'majority_class': 'Class0', 'num_of_attributes': 9, 'num_of_minority_samples': 70, 'num_of_majority_samples': 144, 'imbalance_ratio': 2.057142857142857}\n",
      "Donia\\glass1.csv\n",
      "{'dataset': 'glass1', 'minority_class': 'Class1', 'majority_class': 'Class0', 'num_of_attributes': 9, 'num_of_minority_samples': 76, 'num_of_majority_samples': 138, 'imbalance_ratio': 1.8157894736842106}\n",
      "Donia\\glass6.csv\n",
      "{'dataset': 'glass6', 'minority_class': 'Class1', 'majority_class': 'Class0', 'num_of_attributes': 9, 'num_of_minority_samples': 29, 'num_of_majority_samples': 185, 'imbalance_ratio': 6.379310344827586}\n",
      "Donia\\haberman.csv\n",
      "{'dataset': 'haberman', 'minority_class': 'Class1', 'majority_class': 'Class0', 'num_of_attributes': 3, 'num_of_minority_samples': 81, 'num_of_majority_samples': 225, 'imbalance_ratio': 2.7777777777777777}\n",
      "Donia\\iris0.csv\n",
      "{'dataset': 'iris0', 'minority_class': 'Class1', 'majority_class': 'Class0', 'num_of_attributes': 4, 'num_of_minority_samples': 50, 'num_of_majority_samples': 100, 'imbalance_ratio': 2.0}\n",
      "Donia\\new-thyroid1.csv\n",
      "{'dataset': 'new-thyroid1', 'minority_class': 'Class1', 'majority_class': 'Class0', 'num_of_attributes': 5, 'num_of_minority_samples': 35, 'num_of_majority_samples': 180, 'imbalance_ratio': 5.142857142857143}\n",
      "Donia\\newthyroid2.csv\n",
      "{'dataset': 'newthyroid2', 'minority_class': 'Class1', 'majority_class': 'Class0', 'num_of_attributes': 5, 'num_of_minority_samples': 35, 'num_of_majority_samples': 180, 'imbalance_ratio': 5.142857142857143}\n",
      "Donia\\pima.csv\n",
      "{'dataset': 'pima', 'minority_class': 'Class0', 'majority_class': 'Class1', 'num_of_attributes': 8, 'num_of_minority_samples': 268, 'num_of_majority_samples': 500, 'imbalance_ratio': 1.8656716417910448}\n",
      "Donia\\vertebral.csv\n",
      "{'dataset': 'vertebral', 'minority_class': 'Class1', 'majority_class': 'Class0', 'num_of_attributes': 6, 'num_of_minority_samples': 100, 'num_of_majority_samples': 210, 'imbalance_ratio': 2.1}\n",
      "Donia\\wisconsin.csv\n",
      "{'dataset': 'wisconsin', 'minority_class': 'Class1', 'majority_class': 'Class0', 'num_of_attributes': 9, 'num_of_minority_samples': 239, 'num_of_majority_samples': 444, 'imbalance_ratio': 1.8577405857740585}\n",
      "Donia\\wpbc.csv\n",
      "{'dataset': 'wpbc', 'minority_class': 'Class1', 'majority_class': 'Class0', 'num_of_attributes': 31, 'num_of_minority_samples': 212, 'num_of_majority_samples': 357, 'imbalance_ratio': 1.6839622641509433}\n",
      "Donia\\yeast-1_vs_7.csv\n",
      "{'dataset': 'yeast-1_vs_7', 'minority_class': 'Class1', 'majority_class': 'Class0', 'num_of_attributes': 7, 'num_of_minority_samples': 30, 'num_of_majority_samples': 429, 'imbalance_ratio': 14.3}\n",
      "Donia\\yeast-2_vs_4.csv\n",
      "{'dataset': 'yeast-2_vs_4', 'minority_class': 'Class1', 'majority_class': 'Class0', 'num_of_attributes': 8, 'num_of_minority_samples': 51, 'num_of_majority_samples': 463, 'imbalance_ratio': 9.07843137254902}\n",
      "Donia\\yeast1.csv\n",
      "{'dataset': 'yeast1', 'minority_class': 'Class1', 'majority_class': 'Class0', 'num_of_attributes': 8, 'num_of_minority_samples': 429, 'num_of_majority_samples': 1055, 'imbalance_ratio': 2.4592074592074593}\n",
      "Donia\\yeast3.csv\n",
      "{'dataset': 'yeast3', 'minority_class': 'Class1', 'majority_class': 'Class0', 'num_of_attributes': 8, 'num_of_minority_samples': 163, 'num_of_majority_samples': 1321, 'imbalance_ratio': 8.104294478527608}\n"
     ]
    }
   ],
   "source": [
    "path = ''\n",
    "\n",
    "dict_ls = []\n",
    "for file_name in glob.glob(path+'*.csv'):\n",
    "    df = pd.read_csv(file_name)\n",
    "    y = df.values[:,-1]\n",
    "    \n",
    "    dict = {}\n",
    "    print(file_name)\n",
    "    dict['dataset'] = file_name.split('.')[0]#.split('\\\\')[1]\n",
    "    minlabel,majlabel = get_labels(y)\n",
    "    \n",
    "    dict['minority_class'] = 'Class' + str(minlabel)\n",
    "    dict['majority_class'] = 'Class' + str(majlabel)\n",
    "    dict['num_of_attributes'] = len(df.columns) - 1\n",
    "    dict['num_of_minority_samples'] = len(y[y==minlabel])\n",
    "    dict['num_of_majority_samples'] = len(y[y==majlabel])\n",
    "    dict['imbalance_ratio'] = dict['num_of_majority_samples']/dict['num_of_minority_samples']\n",
    "    dict\n",
    "    dict_ls.append(dict)\n",
    "#     print(dict)\n",
    "\n",
    "dataset_df = pd.DataFrame.from_dict(dict_ls)\n",
    "dataset_df.to_csv(path+'dataset_description.csv')"
   ]
  }
 ],
 "metadata": {
  "kernelspec": {
   "display_name": "Python 3 (ipykernel)",
   "language": "python",
   "name": "python3"
  },
  "language_info": {
   "codemirror_mode": {
    "name": "ipython",
    "version": 3
   },
   "file_extension": ".py",
   "mimetype": "text/x-python",
   "name": "python",
   "nbconvert_exporter": "python",
   "pygments_lexer": "ipython3",
   "version": "3.9.12"
  }
 },
 "nbformat": 4,
 "nbformat_minor": 5
}
